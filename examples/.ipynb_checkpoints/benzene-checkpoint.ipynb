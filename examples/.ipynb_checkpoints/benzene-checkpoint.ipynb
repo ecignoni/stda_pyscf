{
 "cells": [
  {
   "cell_type": "code",
   "execution_count": null,
   "id": "4a826043-dc7a-44d4-af10-ab72c9cf6fcd",
   "metadata": {},
   "outputs": [],
   "source": [
    "import pyscf\n",
    "from pyscf import gto, dft\n",
    "\n",
    "import stda_pyscf as stda\n",
    "\n",
    "%load_ext autoreload\n",
    "%autoreload 2"
   ]
  },
  {
   "cell_type": "code",
   "execution_count": null,
   "id": "4db7d3d2-2943-4617-ab5b-32ed22d7ff0b",
   "metadata": {},
   "outputs": [],
   "source": [
    "mol = gto.M(\n",
    "    atom=open('../data/benzene.xyz').read(),\n",
    "    basis='631g',\n",
    "    spin=0,\n",
    "    charge=0,\n",
    "    verbose=5,\n",
    "    unit='Bohr',\n",
    "    cart=True,\n",
    ")\n",
    "\n",
    "mf = dft.RKS(mol)\n",
    "mf.xc = 'b3lypg'\n",
    "mf.conv_tol = 1e-10\n",
    "\n",
    "grids = dft.Grids(mol)\n",
    "grids.atom_grid = (99, 590)\n",
    "grids.build()\n",
    "mf.grids = grids\n",
    "\n",
    "mf.kernel()"
   ]
  },
  {
   "cell_type": "code",
   "execution_count": null,
   "id": "aed0f2e2-dc69-4af0-aa03-ae18be29dcb9",
   "metadata": {},
   "outputs": [],
   "source": [
    "stda_obj = stda.sTDA(mf, e_max=10)\n",
    "e, xy = stda_obj.kernel()"
   ]
  }
 ],
 "metadata": {
  "kernelspec": {
   "display_name": "Python 3 (ipykernel)",
   "language": "python",
   "name": "python3"
  },
  "language_info": {
   "codemirror_mode": {
    "name": "ipython",
    "version": 3
   },
   "file_extension": ".py",
   "mimetype": "text/x-python",
   "name": "python",
   "nbconvert_exporter": "python",
   "pygments_lexer": "ipython3",
   "version": "3.9.15"
  }
 },
 "nbformat": 4,
 "nbformat_minor": 5
}
